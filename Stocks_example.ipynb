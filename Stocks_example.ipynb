{
 "cells": [
  {
   "cell_type": "code",
   "execution_count": 1,
   "metadata": {},
   "outputs": [],
   "source": [
    "import numpy as np\n",
    "from bqplot import pyplot as plt\n",
    "\n",
    "import ipywidgets as widgets\n",
    "from IPython.display import display\n",
    "from ipywidgets import Layout"
   ]
  },
  {
   "cell_type": "code",
   "execution_count": 2,
   "metadata": {},
   "outputs": [
    {
     "data": {
      "application/vnd.jupyter.widget-view+json": {
       "model_id": "e43c963125ad4570988afed02bd5f5c6",
       "version_major": 2,
       "version_minor": 0
      },
      "text/plain": [
       "VBox(children=(HBox(children=(FloatSlider(value=0.0, continuous_update=False, description='a0:', max=1.5, min=…"
      ]
     },
     "metadata": {},
     "output_type": "display_data"
    },
    {
     "data": {
      "application/vnd.jupyter.widget-view+json": {
       "model_id": "275e67e9950741daa3c0b5802c892ace",
       "version_major": 2,
       "version_minor": 0
      },
      "text/plain": [
       "Output()"
      ]
     },
     "metadata": {},
     "output_type": "display_data"
    },
    {
     "name": "stderr",
     "output_type": "stream",
     "text": [
      "<ipython-input-2-f61822b62fd7>:19: RuntimeWarning: invalid value encountered in log\n",
      "  alpha_t = a[0] + sum([ a[j]*np.log(Y[j-1, i]) for j in range(1,4)])\n",
      "<ipython-input-2-f61822b62fd7>:19: RuntimeWarning: invalid value encountered in log\n",
      "  alpha_t = a[0] + sum([ a[j]*np.log(Y[j-1, i]) for j in range(1,4)])\n",
      "<ipython-input-2-f61822b62fd7>:19: RuntimeWarning: invalid value encountered in log\n",
      "  alpha_t = a[0] + sum([ a[j]*np.log(Y[j-1, i]) for j in range(1,4)])\n"
     ]
    }
   ],
   "source": [
    "n_samples = 200\n",
    "\n",
    "noise = np.random.normal(0, 0.01, (3, n_samples))\n",
    "\n",
    "Y = np.zeros( (3, n_samples))\n",
    "#setting the start values (arbitrary)\n",
    "Y[0, 0] = 11.1\n",
    "Y[1, 0] = 12.\n",
    "Y[2, 0] = 11.\n",
    "\n",
    "a = np.array([0., -1, 0, 1])\n",
    "#a[0] = -np.sum([ a[j]*np.log(Y[j-1, 0]) for j in range(1,4)])\n",
    "delta = np.array([1,1,0])\n",
    "\n",
    "alpha = np.zeros(n_samples)\n",
    "\n",
    "def calc_Y (a, delta):\n",
    "    for i in range(n_samples-1):\n",
    "        alpha_t = a[0] + sum([ a[j]*np.log(Y[j-1, i]) for j in range(1,4)])\n",
    "        #print(alpha_t)\n",
    "        alpha[i] = alpha_t\n",
    "        for j in range(3):\n",
    "            Y[j, i+1] = Y[j, i] + delta[j]*Y[j, i]*alpha_t + Y[j, i]*noise[j, i]\n",
    "    return Y\n",
    "\n",
    "#plt.plot(alpha)\n",
    "#alpha\n",
    "\n",
    "#Y = calc_Y(a, delta)\n",
    "\n",
    "#plt.figure()\n",
    "#plt.plot(Y[0, :], label = \"stock 1\")\n",
    "#plt.plot(Y[1, :], label = \"stock 2\", colors=['orangered'])\n",
    "#plt.plot(Y[2, :], label = \"stock 2\", colors=['green'])\n",
    "#plt.show()\n",
    "\n",
    "reset_zero = widgets.Button(description='Reset to 0')\n",
    "reset_exam = widgets.Button(description='Reset to ex')\n",
    "new_chance = widgets.Button(description='New chance')\n",
    "\n",
    "slider_a0 = widgets.FloatSlider(min=-1.5, max=1.5, step=0.05, continuous_update= False, description='a0:', value= 0)\n",
    "slider_a1 = widgets.FloatSlider(min=-1.5, max=1.5, step=0.05, continuous_update= False, description='a1:', value=-1)\n",
    "slider_a2 = widgets.FloatSlider(min=-1.5, max=1.5, step=0.05, continuous_update= False, description='a2:', value= 0)\n",
    "slider_a3 = widgets.FloatSlider(min=-1.5, max=1.5, step=0.05, continuous_update= False, description='a3:', value= 1)\n",
    "\n",
    "slider_delta1 = widgets.FloatSlider(min=-1.5, max=1.5, step=0.05, continuous_update= False, description='d1:', value=1)\n",
    "slider_delta2 = widgets.FloatSlider(min=-1.5, max=1.5, step=0.05, continuous_update= False, description='d2:', value=1)\n",
    "slider_delta3 = widgets.FloatSlider(min=-1.5, max=1.5, step=0.05, continuous_update= False, description='d3:', value=0)\n",
    "\n",
    "controls_a = widgets.HBox( [slider_a1, slider_a2, slider_a3])\n",
    "controls_d = widgets.HBox( [slider_delta1, slider_delta2, slider_delta3])\n",
    "\n",
    "auto_a0_box = widgets.Checkbox(value=False, description='auto a0')\n",
    "\n",
    "controls = widgets.VBox ( [widgets.HBox([slider_a0, auto_a0_box, reset_zero, reset_exam, new_chance]), controls_a, controls_d])\n",
    "\n",
    "plot_output = widgets.Output()\n",
    "plot_output.clear_output()\n",
    "\n",
    "def slider_changed(change):\n",
    "    if auto_a0_box.value:\n",
    "        a0_aut = -np.sum([ [slider_a1.value, slider_a2.value, slider_a3.value][j]*np.log([11.1, 12., 11.][j]) for j in range(3)])\n",
    "        slider_a0.disabled = True\n",
    "        slider_a0.value = a0_aut\n",
    "        Y = calc_Y(np.array([a0_aut, slider_a1.value, slider_a2.value, slider_a3.value]), \n",
    "               np.array([slider_delta1.value, slider_delta2.value, slider_delta3.value]) )\n",
    "    else:\n",
    "        slider_a0.disabled = False\n",
    "        Y = calc_Y(np.array([slider_a0.value, slider_a1.value, slider_a2.value, slider_a3.value]), \n",
    "               np.array([slider_delta1.value, slider_delta2.value, slider_delta3.value]) )\n",
    "    plot_output.clear_output(wait=True)\n",
    "    with plot_output:\n",
    "        #fig, ((ax1, ax2)) = plt.subplots(1,2, figsize=(20,5))\n",
    "        plt.figure()\n",
    "        plt.plot(Y[0, :], label = \"stock 1\")\n",
    "        plt.plot(Y[1, :], label = \"stock 2\", colors=['orangered'])\n",
    "        plt.plot(Y[2, :], label = \"stock 2\", colors=['green'])\n",
    "        plt.show()\n",
    "        #ax1.plot(Y[1, :], label = \"stock 2\")\n",
    "        #ax1.plot(Y[2, :], label = \"stock 3\")\n",
    "        plt.figure()\n",
    "        plt.plot(alpha)\n",
    "        plt.show()\n",
    "\n",
    "for s in [slider_delta1, slider_delta2, slider_delta3, slider_a0, slider_a1, slider_a2, slider_a3, auto_a0_box]:\n",
    "    s.observe(slider_changed, names='value')\n",
    "\n",
    "def reset_zero_fun (change):\n",
    "    auto_a0_box.value = False\n",
    "    slider_a0.value = 0\n",
    "    slider_a1.value = 0\n",
    "    slider_a2.value = 0\n",
    "    slider_a3.value = 0\n",
    "    slider_delta1.value = 0\n",
    "    slider_delta2.value = 0\n",
    "    slider_delta3.value = 0\n",
    "reset_zero.on_click(reset_zero_fun)\n",
    "\n",
    "def reset_exam_fun (change):\n",
    "    auto_a0_box.value = False\n",
    "    slider_a0.value = 0\n",
    "    slider_a1.value = -1\n",
    "    slider_a2.value = 0\n",
    "    slider_a3.value = 1\n",
    "    slider_delta1.value = 1\n",
    "    slider_delta2.value = 1\n",
    "    slider_delta3.value = 0\n",
    "reset_exam.on_click(reset_exam_fun)\n",
    "\n",
    "def new_chance_fun (change):\n",
    "    newnoise = np.random.normal(0, 0.01, (3, n_samples))\n",
    "    for i in range(3):\n",
    "        for j in range(n_samples):\n",
    "            noise[i,j] = newnoise[i,j]\n",
    "    slider_changed({})\n",
    "new_chance.on_click(new_chance_fun)\n",
    "\n",
    "slider_changed({})\n",
    "\n",
    "display(controls, plot_output)"
   ]
  },
  {
   "cell_type": "code",
   "execution_count": null,
   "metadata": {},
   "outputs": [],
   "source": []
  }
 ],
 "metadata": {
  "kernelspec": {
   "display_name": "Python 3",
   "language": "python",
   "name": "python3"
  },
  "language_info": {
   "codemirror_mode": {
    "name": "ipython",
    "version": 3
   },
   "file_extension": ".py",
   "mimetype": "text/x-python",
   "name": "python",
   "nbconvert_exporter": "python",
   "pygments_lexer": "ipython3",
   "version": "3.8.3"
  }
 },
 "nbformat": 4,
 "nbformat_minor": 4
}
